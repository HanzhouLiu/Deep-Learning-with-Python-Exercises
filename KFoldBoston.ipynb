{
  "nbformat": 4,
  "nbformat_minor": 0,
  "metadata": {
    "colab": {
      "name": "KFoldBoston.ipynb",
      "provenance": [],
      "authorship_tag": "ABX9TyN0INDs/q9pcBtm7ZRPuv+j",
      "include_colab_link": true
    },
    "kernelspec": {
      "name": "python3",
      "display_name": "Python 3"
    }
  },
  "cells": [
    {
      "cell_type": "markdown",
      "metadata": {
        "id": "view-in-github",
        "colab_type": "text"
      },
      "source": [
        "<a href=\"https://colab.research.google.com/github/HanzhouLiu/Deep-Learning-with-Python-Exercises/blob/main/KFoldBoston.ipynb\" target=\"_parent\"><img src=\"https://colab.research.google.com/assets/colab-badge.svg\" alt=\"Open In Colab\"/></a>"
      ]
    },
    {
      "cell_type": "code",
      "metadata": {
        "colab": {
          "base_uri": "https://localhost:8080/"
        },
        "id": "67uXIKQBqe97",
        "outputId": "1bf37482-4a6a-422a-a307-376da5ce269a"
      },
      "source": [
        "from keras.datasets import boston_housing\r\n",
        "\r\n",
        "(train_data, train_targets), (test_data, test_targets) =  boston_housing.load_data()\r\n",
        "\r\n",
        "mean = train_data.mean(axis=0)\r\n",
        "train_data -= mean\r\n",
        "std = train_data.std(axis=0)\r\n",
        "train_data /= std\r\n",
        "\r\n",
        "test_data -= mean\r\n",
        "test_data /= std\r\n",
        "\r\n",
        "from keras import models\r\n",
        "from keras import layers\r\n",
        "\r\n",
        "def build_model():\r\n",
        "    # Because we will need to instantiate\r\n",
        "    # the same model multiple times,\r\n",
        "    # we use a function to construct it.\r\n",
        "    model = models.Sequential()\r\n",
        "    model.add(layers.Dense(64, activation='relu',\r\n",
        "                           input_shape=(train_data.shape[1],)))\r\n",
        "    model.add(layers.Dense(64, activation='relu'))\r\n",
        "    model.add(layers.Dense(1))\r\n",
        "    model.compile(optimizer='rmsprop', loss='mse', metrics=['mae'])\r\n",
        "    return model\r\n",
        "\r\n",
        "import numpy as np\r\n",
        "\r\n",
        "k = 4\r\n",
        "num_val_samples = len(train_data) // k\r\n",
        "num_epochs = 100\r\n",
        "all_scores = []\r\n",
        "for i in range(k):\r\n",
        "    print('processing fold #', i)\r\n",
        "    # Prepare the validation data: data from partition # k\r\n",
        "    val_data = train_data[i * num_val_samples: (i + 1) * num_val_samples]\r\n",
        "    val_targets = train_targets[i * num_val_samples: (i + 1) * num_val_samples]\r\n",
        "\r\n",
        "    # Prepare the training data: data from all other partitions\r\n",
        "    partial_train_data = np.concatenate(\r\n",
        "        [train_data[:i * num_val_samples],\r\n",
        "         train_data[(i + 1) * num_val_samples:]],\r\n",
        "        axis=0)\r\n",
        "    partial_train_targets = np.concatenate(\r\n",
        "        [train_targets[:i * num_val_samples],\r\n",
        "         train_targets[(i + 1) * num_val_samples:]],\r\n",
        "        axis=0)\r\n",
        "\r\n",
        "    # Build the Keras model (already compiled)\r\n",
        "    model = build_model()\r\n",
        "    # Train the model (in silent mode, verbose=0)\r\n",
        "    model.fit(partial_train_data, partial_train_targets,\r\n",
        "              epochs=num_epochs, batch_size=1, verbose=0)\r\n",
        "    # Evaluate the model on the validation data\r\n",
        "    val_mse, val_mae = model.evaluate(val_data, val_targets, verbose=0)\r\n",
        "    all_scores.append(val_mae)\r\n",
        "\r\n",
        "all_scores\r\n",
        "\r\n",
        "np.mean(all_scores)"
      ],
      "execution_count": 3,
      "outputs": [
        {
          "output_type": "stream",
          "text": [
            "processing fold # 0\n",
            "processing fold # 1\n",
            "processing fold # 2\n",
            "processing fold # 3\n"
          ],
          "name": "stdout"
        },
        {
          "output_type": "execute_result",
          "data": {
            "text/plain": [
              "2.491775929927826"
            ]
          },
          "metadata": {
            "tags": []
          },
          "execution_count": 3
        }
      ]
    }
  ]
}