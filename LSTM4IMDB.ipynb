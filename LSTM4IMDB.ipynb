{
  "nbformat": 4,
  "nbformat_minor": 0,
  "metadata": {
    "colab": {
      "name": "LSTM4IMDB.ipynb",
      "provenance": [],
      "authorship_tag": "ABX9TyNkzFcNWBj8vgLEnig7Sk8W",
      "include_colab_link": true
    },
    "kernelspec": {
      "name": "python3",
      "display_name": "Python 3"
    },
    "accelerator": "GPU"
  },
  "cells": [
    {
      "cell_type": "markdown",
      "metadata": {
        "id": "view-in-github",
        "colab_type": "text"
      },
      "source": [
        "<a href=\"https://colab.research.google.com/github/HanzhouLiu/Deep-Learning-with-Python-Exercises/blob/main/LSTM4IMDB.ipynb\" target=\"_parent\"><img src=\"https://colab.research.google.com/assets/colab-badge.svg\" alt=\"Open In Colab\"/></a>"
      ]
    },
    {
      "cell_type": "code",
      "metadata": {
        "id": "3gKS3pnYQ_qR"
      },
      "source": [
        "# Design, train and test a neural network model for the IMDB dataset, using LSTM\r\n",
        "from __future__ import print_function\r\n",
        "\r\n",
        "from keras.preprocessing import sequence\r\n",
        "from keras.models import Sequential\r\n",
        "from keras.layers import Dense, Embedding\r\n",
        "from keras.layers import LSTM\r\n",
        "from keras.datasets import imdb"
      ],
      "execution_count": 1,
      "outputs": []
    },
    {
      "cell_type": "code",
      "metadata": {
        "colab": {
          "base_uri": "https://localhost:8080/"
        },
        "id": "WGiZ31JvSK7a",
        "outputId": "60f878a6-a749-4864-a72d-0938f82162d4"
      },
      "source": [
        "max_features = 20000\r\n",
        "maxlen = 80  # cut texts after this number of words (among top max_features most common words)\r\n",
        "batch_size = 32\r\n",
        "\r\n",
        "print('Loading data...')\r\n",
        "(x_train, y_train), (x_test, y_test) = imdb.load_data(num_words=max_features)\r\n",
        "print(len(x_train), 'train sequences')\r\n",
        "print(len(x_test), 'test sequences')\r\n",
        "\r\n",
        "print('Pad sequences (samples x time)')\r\n",
        "x_train = sequence.pad_sequences(x_train, maxlen=maxlen)\r\n",
        "x_test = sequence.pad_sequences(x_test, maxlen=maxlen)\r\n",
        "print('x_train shape:', x_train.shape)\r\n",
        "print('x_test shape:', x_test.shape)"
      ],
      "execution_count": 2,
      "outputs": [
        {
          "output_type": "stream",
          "text": [
            "Loading data...\n",
            "Downloading data from https://storage.googleapis.com/tensorflow/tf-keras-datasets/imdb.npz\n",
            "17465344/17464789 [==============================] - 0s 0us/step\n"
          ],
          "name": "stdout"
        },
        {
          "output_type": "stream",
          "text": [
            "<string>:6: VisibleDeprecationWarning: Creating an ndarray from ragged nested sequences (which is a list-or-tuple of lists-or-tuples-or ndarrays with different lengths or shapes) is deprecated. If you meant to do this, you must specify 'dtype=object' when creating the ndarray\n",
            "/usr/local/lib/python3.7/dist-packages/tensorflow/python/keras/datasets/imdb.py:159: VisibleDeprecationWarning: Creating an ndarray from ragged nested sequences (which is a list-or-tuple of lists-or-tuples-or ndarrays with different lengths or shapes) is deprecated. If you meant to do this, you must specify 'dtype=object' when creating the ndarray\n",
            "  x_train, y_train = np.array(xs[:idx]), np.array(labels[:idx])\n",
            "/usr/local/lib/python3.7/dist-packages/tensorflow/python/keras/datasets/imdb.py:160: VisibleDeprecationWarning: Creating an ndarray from ragged nested sequences (which is a list-or-tuple of lists-or-tuples-or ndarrays with different lengths or shapes) is deprecated. If you meant to do this, you must specify 'dtype=object' when creating the ndarray\n",
            "  x_test, y_test = np.array(xs[idx:]), np.array(labels[idx:])\n"
          ],
          "name": "stderr"
        },
        {
          "output_type": "stream",
          "text": [
            "25000 train sequences\n",
            "25000 test sequences\n",
            "Pad sequences (samples x time)\n",
            "x_train shape: (25000, 80)\n",
            "x_test shape: (25000, 80)\n"
          ],
          "name": "stdout"
        }
      ]
    },
    {
      "cell_type": "code",
      "metadata": {
        "colab": {
          "base_uri": "https://localhost:8080/"
        },
        "id": "Kre5JmcGSPHW",
        "outputId": "70e96cd0-e12e-4d8b-b745-01453b5c20c1"
      },
      "source": [
        "print('Build model...')\r\n",
        "model = Sequential()\r\n",
        "model.add(Embedding(max_features, 128))\r\n",
        "model.add(LSTM(128, dropout=0.2, recurrent_dropout=0.2))\r\n",
        "model.add(Dense(1, activation='sigmoid'))\r\n",
        "\r\n",
        "# try using different optimizers and different optimizer configs\r\n",
        "model.compile(loss='binary_crossentropy',\r\n",
        "              optimizer='adam',\r\n",
        "              metrics=['accuracy'])\r\n",
        "\r\n",
        "print('Train...')\r\n",
        "model.fit(x_train, y_train,\r\n",
        "          batch_size=batch_size,\r\n",
        "          epochs=15,\r\n",
        "          validation_data=(x_test, y_test))\r\n",
        "score, acc = model.evaluate(x_test, y_test,\r\n",
        "                            batch_size=batch_size)\r\n",
        "print('Test score:', score)\r\n",
        "print('Test accuracy:', acc)"
      ],
      "execution_count": 3,
      "outputs": [
        {
          "output_type": "stream",
          "text": [
            "Build model...\n",
            "WARNING:tensorflow:Layer lstm will not use cuDNN kernel since it doesn't meet the cuDNN kernel criteria. It will use generic GPU kernel as fallback when running on GPU\n",
            "Train...\n",
            "Epoch 1/15\n",
            "782/782 [==============================] - 237s 297ms/step - loss: 0.5127 - accuracy: 0.7422 - val_loss: 0.3622 - val_accuracy: 0.8388\n",
            "Epoch 2/15\n",
            "782/782 [==============================] - 231s 295ms/step - loss: 0.2461 - accuracy: 0.9065 - val_loss: 0.3709 - val_accuracy: 0.8373\n",
            "Epoch 3/15\n",
            "782/782 [==============================] - 232s 296ms/step - loss: 0.1583 - accuracy: 0.9423 - val_loss: 0.4397 - val_accuracy: 0.8274\n",
            "Epoch 4/15\n",
            "782/782 [==============================] - 231s 295ms/step - loss: 0.0984 - accuracy: 0.9639 - val_loss: 0.5287 - val_accuracy: 0.8222\n",
            "Epoch 5/15\n",
            "782/782 [==============================] - 233s 297ms/step - loss: 0.0613 - accuracy: 0.9791 - val_loss: 0.6408 - val_accuracy: 0.8191\n",
            "Epoch 6/15\n",
            "782/782 [==============================] - 230s 294ms/step - loss: 0.0466 - accuracy: 0.9847 - val_loss: 0.7347 - val_accuracy: 0.8133\n",
            "Epoch 7/15\n",
            "782/782 [==============================] - 230s 294ms/step - loss: 0.0368 - accuracy: 0.9864 - val_loss: 0.8542 - val_accuracy: 0.8147\n",
            "Epoch 8/15\n",
            "782/782 [==============================] - 230s 294ms/step - loss: 0.0309 - accuracy: 0.9908 - val_loss: 0.7251 - val_accuracy: 0.8180\n",
            "Epoch 9/15\n",
            "782/782 [==============================] - 230s 294ms/step - loss: 0.0162 - accuracy: 0.9956 - val_loss: 0.8213 - val_accuracy: 0.8024\n",
            "Epoch 10/15\n",
            "782/782 [==============================] - 230s 294ms/step - loss: 0.0184 - accuracy: 0.9949 - val_loss: 0.9482 - val_accuracy: 0.8126\n",
            "Epoch 11/15\n",
            "782/782 [==============================] - 231s 295ms/step - loss: 0.0131 - accuracy: 0.9960 - val_loss: 1.0044 - val_accuracy: 0.8152\n",
            "Epoch 12/15\n",
            "782/782 [==============================] - 230s 294ms/step - loss: 0.0141 - accuracy: 0.9957 - val_loss: 1.0207 - val_accuracy: 0.8193\n",
            "Epoch 13/15\n",
            "782/782 [==============================] - 230s 294ms/step - loss: 0.0106 - accuracy: 0.9967 - val_loss: 1.2551 - val_accuracy: 0.8066\n",
            "Epoch 14/15\n",
            "782/782 [==============================] - 230s 294ms/step - loss: 0.0078 - accuracy: 0.9974 - val_loss: 1.0595 - val_accuracy: 0.8114\n",
            "Epoch 15/15\n",
            "782/782 [==============================] - 230s 294ms/step - loss: 0.0068 - accuracy: 0.9980 - val_loss: 1.1478 - val_accuracy: 0.8120\n",
            "782/782 [==============================] - 14s 18ms/step - loss: 1.1478 - accuracy: 0.8120\n",
            "Test score: 1.1478227376937866\n",
            "Test accuracy: 0.811959981918335\n"
          ],
          "name": "stdout"
        }
      ]
    }
  ]
}