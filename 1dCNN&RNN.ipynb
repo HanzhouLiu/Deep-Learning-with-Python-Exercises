{
  "nbformat": 4,
  "nbformat_minor": 0,
  "metadata": {
    "colab": {
      "name": "1dCNN&RNN.ipynb",
      "provenance": [],
      "authorship_tag": "ABX9TyPv+Pj/jlD8NgRj6V3qcTN/",
      "include_colab_link": true
    },
    "kernelspec": {
      "name": "python3",
      "display_name": "Python 3"
    },
    "accelerator": "TPU"
  },
  "cells": [
    {
      "cell_type": "markdown",
      "metadata": {
        "id": "view-in-github",
        "colab_type": "text"
      },
      "source": [
        "<a href=\"https://colab.research.google.com/github/HanzhouLiu/Deep-Learning-with-Python-Exercises/blob/main/1dCNN%26RNN.ipynb\" target=\"_parent\"><img src=\"https://colab.research.google.com/assets/colab-badge.svg\" alt=\"Open In Colab\"/></a>"
      ]
    },
    {
      "cell_type": "code",
      "metadata": {
        "colab": {
          "base_uri": "https://localhost:8080/"
        },
        "id": "x6w2Om6F4N5G",
        "outputId": "2271bf40-7b2b-4839-8792-809a48643e5d"
      },
      "source": [
        "from google.colab import drive\n",
        "drive.mount('/content/drive')"
      ],
      "execution_count": null,
      "outputs": [
        {
          "output_type": "stream",
          "text": [
            "Mounted at /content/drive\n"
          ],
          "name": "stdout"
        }
      ]
    },
    {
      "cell_type": "code",
      "metadata": {
        "id": "xN3N4ZxG9b5b"
      },
      "source": [
        "import os\n",
        "\n",
        "data_dir = '/content/drive/MyDrive/636/homework'\n",
        "fname = os.path.join(data_dir, 'jena_climate_2009_2016.csv')\n",
        "\n",
        "f = open(fname)\n",
        "data = f.read()\n",
        "f.close()\n",
        "\n",
        "lines = data.split('\\n')\n",
        "header = lines[0].split(',')\n",
        "lines = lines[1:]\n",
        "\n",
        "float_data = np.zeros((len(lines), len(header) - 1))\n",
        "for i, line in enumerate(lines):\n",
        "    values = [float(x) for x in line.split(',')[1:]]\n",
        "    float_data[i, :] = values\n",
        "    \n",
        "mean = float_data[:200000].mean(axis=0)\n",
        "float_data -= mean\n",
        "std = float_data[:200000].std(axis=0)\n",
        "float_data /= std\n",
        "\n",
        "def generator(data, lookback, delay, min_index, max_index,\n",
        "              shuffle=False, batch_size=128, step=6):\n",
        "    if max_index is None:\n",
        "        max_index = len(data) - delay - 1\n",
        "    i = min_index + lookback\n",
        "    while 1:\n",
        "        if shuffle:\n",
        "            rows = np.random.randint(\n",
        "                min_index + lookback, max_index, size=batch_size)\n",
        "        else:\n",
        "            if i + batch_size >= max_index:\n",
        "                i = min_index + lookback\n",
        "            rows = np.arange(i, min(i + batch_size, max_index))\n",
        "            i += len(rows)\n",
        "\n",
        "        samples = np.zeros((len(rows),\n",
        "                           lookback // step,\n",
        "                           data.shape[-1]))\n",
        "        targets = np.zeros((len(rows),))\n",
        "        for j, row in enumerate(rows):\n",
        "            indices = range(rows[j] - lookback, rows[j], step)\n",
        "            samples[j] = data[indices]\n",
        "            targets[j] = data[rows[j] + delay][1]\n",
        "        yield samples, targets\n",
        "        \n",
        "lookback = 1440\n",
        "step = 6\n",
        "delay = 144\n",
        "batch_size = 128\n",
        "\n",
        "train_gen = generator(float_data,\n",
        "                      lookback=lookback,\n",
        "                      delay=delay,\n",
        "                      min_index=0,\n",
        "                      max_index=200000,\n",
        "                      shuffle=True,\n",
        "                      step=step, \n",
        "                      batch_size=batch_size)\n",
        "val_gen = generator(float_data,\n",
        "                    lookback=lookback,\n",
        "                    delay=delay,\n",
        "                    min_index=200001,\n",
        "                    max_index=300000,\n",
        "                    step=step,\n",
        "                    batch_size=batch_size)\n",
        "test_gen = generator(float_data,\n",
        "                     lookback=lookback,\n",
        "                     delay=delay,\n",
        "                     min_index=300001,\n",
        "                     max_index=None,\n",
        "                     step=step,\n",
        "                     batch_size=batch_size)\n",
        "\n",
        "# This is how many steps to draw from `val_gen`\n",
        "# in order to see the whole validation set:\n",
        "val_steps = (300000 - 200001 - lookback) // batch_size\n",
        "\n",
        "# This is how many steps to draw from `test_gen`\n",
        "# in order to see the whole test set:\n",
        "test_steps = (len(float_data) - 300001 - lookback) // batch_size"
      ],
      "execution_count": null,
      "outputs": []
    },
    {
      "cell_type": "code",
      "metadata": {
        "colab": {
          "base_uri": "https://localhost:8080/"
        },
        "id": "C6Y3cIytHUos",
        "outputId": "39caae0d-2216-4240-fd26-d31278f2f7fc"
      },
      "source": [
        "from keras.models import Sequential\n",
        "from keras import layers\n",
        "from keras.optimizers import RMSprop\n",
        "\n",
        "model = Sequential()\n",
        "model.add(layers.Conv1D(32, 5, activation='relu',\n",
        "                        input_shape=(None, float_data.shape[-1])))\n",
        "model.add(layers.MaxPooling1D(3))\n",
        "model.add(layers.Conv1D(32, 5, activation='relu'))\n",
        "model.add(layers.MaxPooling1D(3))\n",
        "model.add(layers.Conv1D(32, 5, activation='relu'))\n",
        "model.add(layers.GlobalMaxPooling1D())\n",
        "model.add(layers.Dense(1))\n",
        "\n",
        "model.compile(optimizer=RMSprop(), loss='mae')\n",
        "history = model.fit_generator(train_gen,\n",
        "                              steps_per_epoch=500,\n",
        "                              epochs=20,\n",
        "                              validation_data=val_gen,\n",
        "                              validation_steps=val_steps)"
      ],
      "execution_count": null,
      "outputs": [
        {
          "output_type": "stream",
          "text": [
            "/usr/local/lib/python3.7/dist-packages/tensorflow/python/keras/engine/training.py:1844: UserWarning: `Model.fit_generator` is deprecated and will be removed in a future version. Please use `Model.fit`, which supports generators.\n",
            "  warnings.warn('`Model.fit_generator` is deprecated and '\n"
          ],
          "name": "stderr"
        },
        {
          "output_type": "stream",
          "text": [
            "Epoch 1/20\n",
            "500/500 [==============================] - 45s 88ms/step - loss: 0.4562 - val_loss: 0.4482\n",
            "Epoch 2/20\n",
            "500/500 [==============================] - 43s 87ms/step - loss: 0.3710 - val_loss: 0.4713\n",
            "Epoch 3/20\n",
            "500/500 [==============================] - 43s 87ms/step - loss: 0.3442 - val_loss: 0.4443\n",
            "Epoch 4/20\n",
            "500/500 [==============================] - 44s 87ms/step - loss: 0.3251 - val_loss: 0.4581\n",
            "Epoch 5/20\n",
            "500/500 [==============================] - 44s 87ms/step - loss: 0.3088 - val_loss: 0.4523\n",
            "Epoch 6/20\n",
            "500/500 [==============================] - 43s 86ms/step - loss: 0.3013 - val_loss: 0.4321\n",
            "Epoch 7/20\n",
            "500/500 [==============================] - 43s 86ms/step - loss: 0.2927 - val_loss: 0.4610\n",
            "Epoch 8/20\n",
            "500/500 [==============================] - 43s 86ms/step - loss: 0.2860 - val_loss: 0.4533\n",
            "Epoch 9/20\n",
            "500/500 [==============================] - 44s 87ms/step - loss: 0.2772 - val_loss: 0.4547\n",
            "Epoch 10/20\n",
            "500/500 [==============================] - 44s 87ms/step - loss: 0.2733 - val_loss: 0.4528\n",
            "Epoch 11/20\n",
            "500/500 [==============================] - 44s 87ms/step - loss: 0.2722 - val_loss: 0.4619\n",
            "Epoch 12/20\n",
            "500/500 [==============================] - 44s 87ms/step - loss: 0.2657 - val_loss: 0.4511\n",
            "Epoch 13/20\n",
            "500/500 [==============================] - 44s 87ms/step - loss: 0.2616 - val_loss: 0.4462\n",
            "Epoch 14/20\n",
            "500/500 [==============================] - 43s 86ms/step - loss: 0.2572 - val_loss: 0.4491\n",
            "Epoch 15/20\n",
            "500/500 [==============================] - 43s 86ms/step - loss: 0.2554 - val_loss: 0.4567\n",
            "Epoch 16/20\n",
            "500/500 [==============================] - 43s 87ms/step - loss: 0.2502 - val_loss: 0.4552\n",
            "Epoch 17/20\n",
            "500/500 [==============================] - 44s 87ms/step - loss: 0.2512 - val_loss: 0.4524\n",
            "Epoch 18/20\n",
            "500/500 [==============================] - 44s 87ms/step - loss: 0.2486 - val_loss: 0.4506\n",
            "Epoch 19/20\n",
            "500/500 [==============================] - 43s 87ms/step - loss: 0.2455 - val_loss: 0.4851\n",
            "Epoch 20/20\n",
            "500/500 [==============================] - 43s 87ms/step - loss: 0.2460 - val_loss: 0.4573\n"
          ],
          "name": "stdout"
        }
      ]
    },
    {
      "cell_type": "code",
      "metadata": {
        "colab": {
          "base_uri": "https://localhost:8080/",
          "height": 281
        },
        "id": "VjW8VstLK5Kg",
        "outputId": "96405759-f80f-402b-b9e7-0388cfc16fe3"
      },
      "source": [
        "import matplotlib.pyplot as plt\n",
        "\n",
        "loss = history.history['loss']\n",
        "val_loss = history.history['val_loss']\n",
        "\n",
        "epochs = range(len(loss))\n",
        "\n",
        "plt.figure()\n",
        "\n",
        "plt.plot(epochs, loss, 'bo', label='Training loss')\n",
        "plt.plot(epochs, val_loss, 'b', label='Validation loss')\n",
        "plt.title('Training and validation loss')\n",
        "plt.legend()\n",
        "\n",
        "plt.show()"
      ],
      "execution_count": 34,
      "outputs": [
        {
          "output_type": "display_data",
          "data": {
            "image/png": "[encoded data removed]",
            "text/plain": [
              "<Figure size 432x288 with 1 Axes>"
            ]
          },
          "metadata": {
            "tags": [],
            "needs_background": "light"
          }
        }
      ]
    },
    {
      "cell_type": "code",
      "metadata": {
        "id": "ZAzOE_MaK_HK"
      },
      "source": [
        "# This was previously set to 6 (one point per hour).\n",
        "# Now 3 (one point per 30 min).\n",
        "step = 3\n",
        "lookback = 720  # Unchanged\n",
        "delay = 144 # Unchanged\n",
        "\n",
        "train_gen = generator(float_data,\n",
        "                      lookback=lookback,\n",
        "                      delay=delay,\n",
        "                      min_index=0,\n",
        "                      max_index=200000,\n",
        "                      shuffle=True,\n",
        "                      step=step)\n",
        "val_gen = generator(float_data,\n",
        "                    lookback=lookback,\n",
        "                    delay=delay,\n",
        "                    min_index=200001,\n",
        "                    max_index=300000,\n",
        "                    step=step)\n",
        "test_gen = generator(float_data,\n",
        "                     lookback=lookback,\n",
        "                     delay=delay,\n",
        "                     min_index=300001,\n",
        "                     max_index=None,\n",
        "                     step=step)\n",
        "val_steps = (300000 - 200001 - lookback) // 128\n",
        "test_steps = (len(float_data) - 300001 - lookback) // 128"
      ],
      "execution_count": 35,
      "outputs": []
    },
    {
      "cell_type": "code",
      "metadata": {
        "colab": {
          "base_uri": "https://localhost:8080/"
        },
        "id": "h-i90x7mLFcP",
        "outputId": "47c1b821-d9da-481b-b168-db1de6a69464"
      },
      "source": [
        "model = Sequential()\n",
        "model.add(layers.Conv1D(32, 5, activation='relu',\n",
        "                        input_shape=(None, float_data.shape[-1])))\n",
        "model.add(layers.MaxPooling1D(3))\n",
        "model.add(layers.Conv1D(32, 5, activation='relu'))\n",
        "model.add(layers.GRU(32, dropout=0.1, recurrent_dropout=0.5))\n",
        "model.add(layers.Dense(1))\n",
        "\n",
        "model.summary()\n",
        "\n",
        "model.compile(optimizer=RMSprop(), loss='mae')\n",
        "history = model.fit_generator(train_gen,\n",
        "                              steps_per_epoch=500,\n",
        "                              epochs=20,\n",
        "                              validation_data=val_gen,\n",
        "                              validation_steps=val_steps)"
      ],
      "execution_count": null,
      "outputs": [
        {
          "output_type": "stream",
          "text": [
            "Model: \"sequential_3\"\n",
            "_________________________________________________________________\n",
            "Layer (type)                 Output Shape              Param #   \n",
            "=================================================================\n",
            "conv1d_3 (Conv1D)            (None, None, 32)          2272      \n",
            "_________________________________________________________________\n",
            "max_pooling1d_2 (MaxPooling1 (None, None, 32)          0         \n",
            "_________________________________________________________________\n",
            "conv1d_4 (Conv1D)            (None, None, 32)          5152      \n",
            "_________________________________________________________________\n",
            "gru_1 (GRU)                  (None, 32)                6336      \n",
            "_________________________________________________________________\n",
            "dense_4 (Dense)              (None, 1)                 33        \n",
            "=================================================================\n",
            "Total params: 13,793\n",
            "Trainable params: 13,793\n",
            "Non-trainable params: 0\n",
            "_________________________________________________________________\n",
            "Epoch 1/20\n"
          ],
          "name": "stdout"
        },
        {
          "output_type": "stream",
          "text": [
            "/usr/local/lib/python3.7/dist-packages/tensorflow/python/keras/engine/training.py:1844: UserWarning: `Model.fit_generator` is deprecated and will be removed in a future version. Please use `Model.fit`, which supports generators.\n",
            "  warnings.warn('`Model.fit_generator` is deprecated and '\n"
          ],
          "name": "stderr"
        },
        {
          "output_type": "stream",
          "text": [
            "500/500 [==============================] - 91s 177ms/step - loss: 0.3636 - val_loss: 0.2791\n",
            "Epoch 2/20\n",
            "500/500 [==============================] - 88s 175ms/step - loss: 0.2998 - val_loss: 0.2858\n",
            "Epoch 3/20\n",
            "500/500 [==============================] - 88s 176ms/step - loss: 0.2856 - val_loss: 0.2776\n",
            "Epoch 4/20\n",
            "500/500 [==============================] - 87s 175ms/step - loss: 0.2736 - val_loss: 0.2799\n",
            "Epoch 5/20\n",
            "500/500 [==============================] - 88s 176ms/step - loss: 0.2706 - val_loss: 0.2829\n",
            "Epoch 6/20\n",
            "500/500 [==============================] - 88s 176ms/step - loss: 0.2612 - val_loss: 0.2789\n",
            "Epoch 7/20\n",
            "500/500 [==============================] - 88s 177ms/step - loss: 0.2537 - val_loss: 0.2878\n",
            "Epoch 8/20\n",
            "500/500 [==============================] - 89s 177ms/step - loss: 0.2490 - val_loss: 0.2869\n",
            "Epoch 9/20\n",
            "500/500 [==============================] - 88s 176ms/step - loss: 0.2421 - val_loss: 0.2891\n",
            "Epoch 10/20\n",
            "500/500 [==============================] - 88s 176ms/step - loss: 0.2389 - val_loss: 0.2882\n",
            "Epoch 11/20\n",
            "500/500 [==============================] - 87s 175ms/step - loss: 0.2334 - val_loss: 0.3090\n",
            "Epoch 12/20\n",
            "500/500 [==============================] - 88s 176ms/step - loss: 0.2283 - val_loss: 0.2968\n",
            "Epoch 13/20\n",
            "500/500 [==============================] - 89s 178ms/step - loss: 0.2238 - val_loss: 0.2917\n",
            "Epoch 14/20\n",
            "500/500 [==============================] - 88s 177ms/step - loss: 0.2200 - val_loss: 0.3005\n",
            "Epoch 15/20\n",
            "500/500 [==============================] - 89s 178ms/step - loss: 0.2175 - val_loss: 0.2959\n",
            "Epoch 16/20\n",
            "500/500 [==============================] - 89s 178ms/step - loss: 0.2125 - val_loss: 0.3165\n",
            "Epoch 17/20\n",
            "500/500 [==============================] - 89s 177ms/step - loss: 0.2078 - val_loss: 0.3076\n",
            "Epoch 18/20\n",
            "500/500 [==============================] - 88s 177ms/step - loss: 0.2060 - val_loss: 0.3008\n",
            "Epoch 19/20\n",
            "500/500 [==============================] - 88s 176ms/step - loss: 0.2038 - val_loss: 0.3057\n",
            "Epoch 20/20\n",
            "500/500 [==============================] - 88s 177ms/step - loss: 0.1993 - val_loss: 0.3073\n"
          ],
          "name": "stdout"
        }
      ]
    },
    {
      "cell_type": "code",
      "metadata": {
        "colab": {
          "base_uri": "https://localhost:8080/",
          "height": 281
        },
        "id": "_-w6fbo9LJRa",
        "outputId": "40ea2248-10a8-49d6-f571-00efc8da434a"
      },
      "source": [
        "loss = history.history['loss']\n",
        "val_loss = history.history['val_loss']\n",
        "\n",
        "epochs = range(len(loss))\n",
        "\n",
        "plt.figure()\n",
        "\n",
        "plt.plot(epochs, loss, 'bo', label='Training loss')\n",
        "plt.plot(epochs, val_loss, 'b', label='Validation loss')\n",
        "plt.title('Training and validation loss')\n",
        "plt.legend()\n",
        "\n",
        "plt.show()"
      ],
      "execution_count": null,
      "outputs": [
        {
          "output_type": "display_data",
          "data": {
            "image/png": "[encoded data removed]",
            "text/plain": [
              "<Figure size 432x288 with 1 Axes>"
            ]
          },
          "metadata": {
            "tags": [],
            "needs_background": "light"
          }
        }
      ]
    },
    {
      "cell_type": "code",
      "metadata": {
        "id": "F306hyUYSdlS"
      },
      "source": [
        "model.save(\"/content/drive/MyDrive/636/homework/1dCNN&RNN.h5\")"
      ],
      "execution_count": null,
      "outputs": []
    },
    {
      "cell_type": "code",
      "metadata": {
        "id": "RcamKrVKiyhg"
      },
      "source": [
        "from tensorflow import keras\n",
        "model = keras.models.load_model('/content/drive/MyDrive/636/homework/1dCNN.h5')"
      ],
      "execution_count": 32,
      "outputs": []
    },
    {
      "cell_type": "code",
      "metadata": {
        "colab": {
          "base_uri": "https://localhost:8080/"
        },
        "id": "mDzzkbcGokG1",
        "outputId": "523eb05c-f6e8-4ccb-ddd9-e3cdade68c4c"
      },
      "source": [
        "#! mkdir /tmp/my_log_dir\n",
        "callbacks = [\n",
        "    keras.callbacks.TensorBoard(\n",
        "        log_dir='/tmp/my_log_dir',\n",
        "        histogram_freq=1,\n",
        "        embeddings_freq=1,\n",
        "    )\n",
        "]\n",
        "model = Sequential()\n",
        "model.add(layers.Conv1D(32, 5, activation='relu',\n",
        "                        input_shape=(None, float_data.shape[-1])))\n",
        "model.add(layers.MaxPooling1D(3))\n",
        "model.add(layers.Conv1D(32, 5, activation='relu'))\n",
        "model.add(layers.GRU(32, dropout=0.1, recurrent_dropout=0.5))\n",
        "model.add(layers.Dense(1))\n",
        "\n",
        "model.summary()\n",
        "\n",
        "model.compile(optimizer=RMSprop(), loss='mae')\n",
        "history = model.fit_generator(train_gen,\n",
        "                              steps_per_epoch=500,\n",
        "                              epochs=20,\n",
        "                              validation_data=val_gen,\n",
        "                              validation_steps=val_steps,\n",
        "                              callbacks=callbacks\n",
        "                              )"
      ],
      "execution_count": 39,
      "outputs": [
        {
          "output_type": "stream",
          "text": [
            "Model: \"sequential_4\"\n",
            "_________________________________________________________________\n",
            "Layer (type)                 Output Shape              Param #   \n",
            "=================================================================\n",
            "conv1d_5 (Conv1D)            (None, None, 32)          2272      \n",
            "_________________________________________________________________\n",
            "max_pooling1d_3 (MaxPooling1 (None, None, 32)          0         \n",
            "_________________________________________________________________\n",
            "conv1d_6 (Conv1D)            (None, None, 32)          5152      \n",
            "_________________________________________________________________\n",
            "gru_2 (GRU)                  (None, 32)                6336      \n",
            "_________________________________________________________________\n",
            "dense_5 (Dense)              (None, 1)                 33        \n",
            "=================================================================\n",
            "Total params: 13,793\n",
            "Trainable params: 13,793\n",
            "Non-trainable params: 0\n",
            "_________________________________________________________________\n",
            "Epoch 1/20\n"
          ],
          "name": "stdout"
        },
        {
          "output_type": "stream",
          "text": [
            "/usr/local/lib/python3.7/dist-packages/tensorflow/python/keras/engine/training.py:1844: UserWarning: `Model.fit_generator` is deprecated and will be removed in a future version. Please use `Model.fit`, which supports generators.\n",
            "  warnings.warn('`Model.fit_generator` is deprecated and '\n"
          ],
          "name": "stderr"
        },
        {
          "output_type": "stream",
          "text": [
            "500/500 [==============================] - 93s 180ms/step - loss: 0.3584 - val_loss: 0.2820\n",
            "Epoch 2/20\n",
            "500/500 [==============================] - 90s 179ms/step - loss: 0.3000 - val_loss: 0.2877\n",
            "Epoch 3/20\n",
            "500/500 [==============================] - 90s 180ms/step - loss: 0.2871 - val_loss: 0.2886\n",
            "Epoch 4/20\n",
            "500/500 [==============================] - 90s 180ms/step - loss: 0.2752 - val_loss: 0.2859\n",
            "Epoch 5/20\n",
            "500/500 [==============================] - 90s 179ms/step - loss: 0.2702 - val_loss: 0.2830\n",
            "Epoch 6/20\n",
            "500/500 [==============================] - 89s 178ms/step - loss: 0.2609 - val_loss: 0.2886\n",
            "Epoch 7/20\n",
            "500/500 [==============================] - 90s 180ms/step - loss: 0.2574 - val_loss: 0.2848\n",
            "Epoch 8/20\n",
            "500/500 [==============================] - 89s 179ms/step - loss: 0.2501 - val_loss: 0.2892\n",
            "Epoch 9/20\n",
            "500/500 [==============================] - 90s 179ms/step - loss: 0.2466 - val_loss: 0.3030\n",
            "Epoch 10/20\n",
            "500/500 [==============================] - 89s 178ms/step - loss: 0.2404 - val_loss: 0.2900\n",
            "Epoch 11/20\n",
            "500/500 [==============================] - 89s 179ms/step - loss: 0.2361 - val_loss: 0.3162\n",
            "Epoch 12/20\n",
            "500/500 [==============================] - 89s 178ms/step - loss: 0.2301 - val_loss: 0.3007\n",
            "Epoch 13/20\n",
            "500/500 [==============================] - 90s 180ms/step - loss: 0.2255 - val_loss: 0.2975\n",
            "Epoch 14/20\n",
            "500/500 [==============================] - 90s 180ms/step - loss: 0.2210 - val_loss: 0.3086\n",
            "Epoch 15/20\n",
            "500/500 [==============================] - 90s 179ms/step - loss: 0.2188 - val_loss: 0.3078\n",
            "Epoch 16/20\n",
            "500/500 [==============================] - 90s 179ms/step - loss: 0.2156 - val_loss: 0.3102\n",
            "Epoch 17/20\n",
            "500/500 [==============================] - 89s 179ms/step - loss: 0.2106 - val_loss: 0.3104\n",
            "Epoch 18/20\n",
            "500/500 [==============================] - 89s 179ms/step - loss: 0.2095 - val_loss: 0.3126\n",
            "Epoch 19/20\n",
            "500/500 [==============================] - 89s 178ms/step - loss: 0.2056 - val_loss: 0.3142\n",
            "Epoch 20/20\n",
            "500/500 [==============================] - 90s 179ms/step - loss: 0.2018 - val_loss: 0.3138\n"
          ],
          "name": "stdout"
        }
      ]
    },
    {
      "cell_type": "code",
      "metadata": {
        "colab": {
          "base_uri": "https://localhost:8080/"
        },
        "id": "sC5FQGVGtAoa",
        "outputId": "b74a1ce3-a353-424c-8f6d-8bcd4a5cb0b6"
      },
      "source": [
        "! tensorboard --logdir=/tmp/my_log_dir"
      ],
      "execution_count": 41,
      "outputs": [
        {
          "output_type": "stream",
          "text": [
            "2021-03-16 20:58:30.072532: I tensorflow/stream_executor/platform/default/dso_loader.cc:49] Successfully opened dynamic library libcudart.so.11.0\n",
            "Serving TensorBoard on localhost; to expose to the network, use a proxy or pass --bind_all\n",
            "TensorBoard 2.4.1 at http://localhost:6006/ (Press CTRL+C to quit)\n",
            "^C\n"
          ],
          "name": "stdout"
        }
      ]
    },
    {
      "cell_type": "code",
      "metadata": {
        "colab": {
          "base_uri": "https://localhost:8080/",
          "height": 644
        },
        "id": "iIx_hxNQ1NjD",
        "outputId": "009b9250-a18a-4057-c97f-11c6a13bba86"
      },
      "source": [
        "from keras.utils import plot_model\n",
        "plot_model(model, show_shapes=True, to_file='model.png')"
      ],
      "execution_count": 42,
      "outputs": [
        {
          "output_type": "execute_result",
          "data": {
            "image/png": "[encoded data removed]",
            "text/plain": [
              "<IPython.core.display.Image object>"
            ]
          },
          "metadata": {
            "tags": []
          },
          "execution_count": 42
        }
      ]
    }
  ]
}