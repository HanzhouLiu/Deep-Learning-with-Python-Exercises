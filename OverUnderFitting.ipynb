{
  "nbformat": 4,
  "nbformat_minor": 0,
  "metadata": {
    "colab": {
      "name": "OverUnderFitting.ipynb",
      "provenance": [],
      "collapsed_sections": [],
      "authorship_tag": "ABX9TyMm2Z1JGi8tR4rHTCjC9TpG",
      "include_colab_link": true
    },
    "kernelspec": {
      "name": "python3",
      "display_name": "Python 3"
    }
  },
  "cells": [
    {
      "cell_type": "markdown",
      "metadata": {
        "id": "view-in-github",
        "colab_type": "text"
      },
      "source": [
        "<a href=\"https://colab.research.google.com/github/HanzhouLiu/Deep-Learning-with-Python-Exercises/blob/main/OverUnderFitting.ipynb\" target=\"_parent\"><img src=\"https://colab.research.google.com/assets/colab-badge.svg\" alt=\"Open In Colab\"/></a>"
      ]
    },
    {
      "cell_type": "code",
      "metadata": {
        "colab": {
          "base_uri": "https://localhost:8080/",
          "height": 1000
        },
        "id": "D0JP3GQR0YJ2",
        "outputId": "65c2db7f-62b4-4878-ceb6-a7e8800bd0dc"
      },
      "source": [
        "# prepare data\r\n",
        "from keras.datasets import imdb\r\n",
        "import numpy as np\r\n",
        "\r\n",
        "(train_data, train_labels), (test_data, test_labels) = imdb.load_data(num_words=10000)\r\n",
        "\r\n",
        "def vectorize_sequences(sequences, dimension=10000):\r\n",
        "    # Create an all-zero matrix of shape (len(sequences), dimension)\r\n",
        "    results = np.zeros((len(sequences), dimension))\r\n",
        "    for i, sequence in enumerate(sequences):\r\n",
        "        results[i, sequence] = 1. \r\n",
        "    return results\r\n",
        "\r\n",
        "# Our vectorized training data\r\n",
        "x_train = vectorize_sequences(train_data)\r\n",
        "# Our vectorized test data\r\n",
        "x_test = vectorize_sequences(test_data)\r\n",
        "# Our vectorized labels\r\n",
        "y_train = np.asarray(train_labels).astype('float32')\r\n",
        "y_test = np.asarray(test_labels).astype('float32')\r\n",
        "\r\n",
        "# fighting overfitting\r\n",
        "from keras import models\r\n",
        "from keras import layers\r\n",
        "\r\n",
        "original_model = models.Sequential()\r\n",
        "original_model.add(layers.Dense(16, activation='relu', input_shape=(10000,)))\r\n",
        "original_model.add(layers.Dense(16, activation='relu'))\r\n",
        "original_model.add(layers.Dense(1, activation='sigmoid'))\r\n",
        "\r\n",
        "original_model.compile(optimizer='rmsprop',\r\n",
        "                       loss='binary_crossentropy',\r\n",
        "                       metrics=['acc'])\r\n",
        "\r\n",
        "# try it with a smaller network\r\n",
        "smaller_model = models.Sequential()\r\n",
        "smaller_model.add(layers.Dense(4, activation='relu', input_shape=(10000,)))\r\n",
        "smaller_model.add(layers.Dense(4, activation='relu'))\r\n",
        "smaller_model.add(layers.Dense(1, activation='sigmoid'))\r\n",
        "\r\n",
        "smaller_model.compile(optimizer='rmsprop',\r\n",
        "                      loss='binary_crossentropy',\r\n",
        "                      metrics=['acc'])\r\n",
        "\r\n",
        "# comparison of the validation losses of the original network and the smaller network\r\n",
        "original_hist = original_model.fit(x_train, y_train,\r\n",
        "                                   epochs=20,\r\n",
        "                                   batch_size=512,\r\n",
        "                                   validation_data=(x_test, y_test))\r\n",
        "\r\n",
        "\r\n",
        "smaller_model_hist = smaller_model.fit(x_train, y_train,\r\n",
        "                                       epochs=20,\r\n",
        "                                       batch_size=512,\r\n",
        "                                       validation_data=(x_test, y_test))\r\n",
        "\r\n",
        "epochs = range(1, 21)\r\n",
        "original_val_loss = original_hist.history['val_loss']\r\n",
        "smaller_model_val_loss = smaller_model_hist.history['val_loss']\r\n",
        "\r\n",
        "import matplotlib.pyplot as plt\r\n",
        "\r\n",
        "# b+ is for \"blue cross\"\r\n",
        "plt.plot(epochs, original_val_loss, 'b+', label='Original model')\r\n",
        "# \"bo\" is for \"blue dot\"\r\n",
        "plt.plot(epochs, smaller_model_val_loss, 'bo', label='Smaller model')\r\n",
        "plt.xlabel('Epochs')\r\n",
        "plt.ylabel('Validation loss')\r\n",
        "plt.legend()\r\n",
        "\r\n",
        "plt.show()\r\n",
        "\r\n",
        "# add to this benchmark a network that has much more capacity\r\n",
        "bigger_model = models.Sequential()\r\n",
        "bigger_model.add(layers.Dense(512, activation='relu', input_shape=(10000,)))\r\n",
        "bigger_model.add(layers.Dense(512, activation='relu'))\r\n",
        "bigger_model.add(layers.Dense(1, activation='sigmoid'))\r\n",
        "\r\n",
        "bigger_model.compile(optimizer='rmsprop',\r\n",
        "                     loss='binary_crossentropy',\r\n",
        "                     metrics=['acc'])\r\n",
        "\r\n",
        "bigger_model_hist = bigger_model.fit(x_train, y_train,\r\n",
        "                                     epochs=20,\r\n",
        "                                     batch_size=512,\r\n",
        "                                     validation_data=(x_test, y_test))\r\n",
        "\r\n",
        "# the bigger network fares compared to the reference one\r\n",
        "bigger_model_val_loss = bigger_model_hist.history['val_loss']\r\n",
        "\r\n",
        "plt.plot(epochs, original_val_loss, 'b+', label='Original model')\r\n",
        "plt.plot(epochs, bigger_model_val_loss, 'bo', label='Bigger model')\r\n",
        "plt.xlabel('Epochs')\r\n",
        "plt.ylabel('Validation loss')\r\n",
        "plt.legend()\r\n",
        "\r\n",
        "plt.show()\r\n",
        "\r\n",
        "# the training losses for our two networks\r\n",
        "original_train_loss = original_hist.history['loss']\r\n",
        "bigger_model_train_loss = bigger_model_hist.history['loss']\r\n",
        "\r\n",
        "plt.plot(epochs, original_train_loss, 'b+', label='Original model')\r\n",
        "plt.plot(epochs, bigger_model_train_loss, 'bo', label='Bigger model')\r\n",
        "plt.xlabel('Epochs')\r\n",
        "plt.ylabel('Training loss')\r\n",
        "plt.legend()\r\n",
        "\r\n",
        "plt.show()\r\n",
        "\r\n",
        "\"\"\"\r\n",
        "The bigger network gets its training loss near zero very \r\n",
        "quickly. The more capacity the network has, the quicker it will be able to model \r\n",
        "the training data (resulting in a low training loss), but the more susceptible \r\n",
        "it is to overfitting (resulting in a large difference between the training and \r\n",
        "validation loss).\r\n",
        "\"\"\""
      ],
      "execution_count": 1,
      "outputs": [
        {
          "output_type": "stream",
          "text": [
            "Downloading data from https://storage.googleapis.com/tensorflow/tf-keras-datasets/imdb.npz\n",
            "17465344/17464789 [==============================] - 0s 0us/step\n"
          ],
          "name": "stdout"
        },
        {
          "output_type": "stream",
          "text": [
            "<string>:6: VisibleDeprecationWarning: Creating an ndarray from ragged nested sequences (which is a list-or-tuple of lists-or-tuples-or ndarrays with different lengths or shapes) is deprecated. If you meant to do this, you must specify 'dtype=object' when creating the ndarray\n",
            "/usr/local/lib/python3.6/dist-packages/tensorflow/python/keras/datasets/imdb.py:159: VisibleDeprecationWarning: Creating an ndarray from ragged nested sequences (which is a list-or-tuple of lists-or-tuples-or ndarrays with different lengths or shapes) is deprecated. If you meant to do this, you must specify 'dtype=object' when creating the ndarray\n",
            "  x_train, y_train = np.array(xs[:idx]), np.array(labels[:idx])\n",
            "/usr/local/lib/python3.6/dist-packages/tensorflow/python/keras/datasets/imdb.py:160: VisibleDeprecationWarning: Creating an ndarray from ragged nested sequences (which is a list-or-tuple of lists-or-tuples-or ndarrays with different lengths or shapes) is deprecated. If you meant to do this, you must specify 'dtype=object' when creating the ndarray\n",
            "  x_test, y_test = np.array(xs[idx:]), np.array(labels[idx:])\n"
          ],
          "name": "stderr"
        },
        {
          "output_type": "stream",
          "text": [
            "Epoch 1/20\n",
            "49/49 [==============================] - 3s 56ms/step - loss: 0.5370 - acc: 0.7466 - val_loss: 0.3452 - val_acc: 0.8718\n",
            "Epoch 2/20\n",
            "49/49 [==============================] - 2s 38ms/step - loss: 0.2629 - acc: 0.9111 - val_loss: 0.2941 - val_acc: 0.8816\n",
            "Epoch 3/20\n",
            "49/49 [==============================] - 2s 38ms/step - loss: 0.1954 - acc: 0.9283 - val_loss: 0.2853 - val_acc: 0.8860\n",
            "Epoch 4/20\n",
            "49/49 [==============================] - 2s 39ms/step - loss: 0.1601 - acc: 0.9436 - val_loss: 0.2948 - val_acc: 0.8828\n",
            "Epoch 5/20\n",
            "49/49 [==============================] - 2s 38ms/step - loss: 0.1434 - acc: 0.9513 - val_loss: 0.3184 - val_acc: 0.8778\n",
            "Epoch 6/20\n",
            "49/49 [==============================] - 2s 38ms/step - loss: 0.1208 - acc: 0.9591 - val_loss: 0.3545 - val_acc: 0.8704\n",
            "Epoch 7/20\n",
            "49/49 [==============================] - 2s 43ms/step - loss: 0.1113 - acc: 0.9633 - val_loss: 0.3583 - val_acc: 0.8709\n",
            "Epoch 8/20\n",
            "49/49 [==============================] - 2s 39ms/step - loss: 0.0913 - acc: 0.9700 - val_loss: 0.4232 - val_acc: 0.8581\n",
            "Epoch 9/20\n",
            "49/49 [==============================] - 2s 39ms/step - loss: 0.0839 - acc: 0.9746 - val_loss: 0.4094 - val_acc: 0.8669\n",
            "Epoch 10/20\n",
            "49/49 [==============================] - 2s 38ms/step - loss: 0.0777 - acc: 0.9767 - val_loss: 0.4663 - val_acc: 0.8565\n",
            "Epoch 11/20\n",
            "49/49 [==============================] - 2s 38ms/step - loss: 0.0694 - acc: 0.9788 - val_loss: 0.4664 - val_acc: 0.8623\n",
            "Epoch 12/20\n",
            "49/49 [==============================] - 2s 38ms/step - loss: 0.0563 - acc: 0.9840 - val_loss: 0.4967 - val_acc: 0.8598\n",
            "Epoch 13/20\n",
            "49/49 [==============================] - 2s 38ms/step - loss: 0.0533 - acc: 0.9843 - val_loss: 0.5318 - val_acc: 0.8579\n",
            "Epoch 14/20\n",
            "49/49 [==============================] - 2s 38ms/step - loss: 0.0456 - acc: 0.9879 - val_loss: 0.5623 - val_acc: 0.8572\n",
            "Epoch 15/20\n",
            "49/49 [==============================] - 2s 38ms/step - loss: 0.0420 - acc: 0.9882 - val_loss: 0.5972 - val_acc: 0.8551\n",
            "Epoch 16/20\n",
            "49/49 [==============================] - 2s 38ms/step - loss: 0.0389 - acc: 0.9886 - val_loss: 0.6305 - val_acc: 0.8533\n",
            "Epoch 17/20\n",
            "49/49 [==============================] - 2s 39ms/step - loss: 0.0287 - acc: 0.9926 - val_loss: 0.7056 - val_acc: 0.8447\n",
            "Epoch 18/20\n",
            "49/49 [==============================] - 2s 39ms/step - loss: 0.0286 - acc: 0.9928 - val_loss: 0.7004 - val_acc: 0.8506\n",
            "Epoch 19/20\n",
            "49/49 [==============================] - 2s 38ms/step - loss: 0.0248 - acc: 0.9933 - val_loss: 0.7363 - val_acc: 0.8496\n",
            "Epoch 20/20\n",
            "49/49 [==============================] - 2s 38ms/step - loss: 0.0209 - acc: 0.9940 - val_loss: 0.7801 - val_acc: 0.8470\n",
            "Epoch 1/20\n",
            "49/49 [==============================] - 3s 48ms/step - loss: 0.5974 - acc: 0.7252 - val_loss: 0.4185 - val_acc: 0.8752\n",
            "Epoch 2/20\n",
            "49/49 [==============================] - 2s 35ms/step - loss: 0.3586 - acc: 0.8986 - val_loss: 0.3306 - val_acc: 0.8851\n",
            "Epoch 3/20\n",
            "49/49 [==============================] - 2s 35ms/step - loss: 0.2674 - acc: 0.9197 - val_loss: 0.2932 - val_acc: 0.8905\n",
            "Epoch 4/20\n",
            "49/49 [==============================] - 2s 35ms/step - loss: 0.2152 - acc: 0.9331 - val_loss: 0.2847 - val_acc: 0.8876\n",
            "Epoch 5/20\n",
            "49/49 [==============================] - 2s 35ms/step - loss: 0.1845 - acc: 0.9411 - val_loss: 0.2797 - val_acc: 0.8886\n",
            "Epoch 6/20\n",
            "49/49 [==============================] - 2s 36ms/step - loss: 0.1638 - acc: 0.9483 - val_loss: 0.2838 - val_acc: 0.8870\n",
            "Epoch 7/20\n",
            "49/49 [==============================] - 2s 36ms/step - loss: 0.1514 - acc: 0.9531 - val_loss: 0.3083 - val_acc: 0.8778\n",
            "Epoch 8/20\n",
            "49/49 [==============================] - 2s 36ms/step - loss: 0.1338 - acc: 0.9573 - val_loss: 0.3014 - val_acc: 0.8818\n",
            "Epoch 9/20\n",
            "49/49 [==============================] - 2s 36ms/step - loss: 0.1263 - acc: 0.9607 - val_loss: 0.3154 - val_acc: 0.8779\n",
            "Epoch 10/20\n",
            "49/49 [==============================] - 2s 35ms/step - loss: 0.1099 - acc: 0.9660 - val_loss: 0.3404 - val_acc: 0.8736\n",
            "Epoch 11/20\n",
            "49/49 [==============================] - 2s 35ms/step - loss: 0.1112 - acc: 0.9657 - val_loss: 0.3425 - val_acc: 0.8744\n",
            "Epoch 12/20\n",
            "49/49 [==============================] - 2s 35ms/step - loss: 0.0960 - acc: 0.9713 - val_loss: 0.3595 - val_acc: 0.8727\n",
            "Epoch 13/20\n",
            "49/49 [==============================] - 2s 34ms/step - loss: 0.0870 - acc: 0.9743 - val_loss: 0.3724 - val_acc: 0.8709\n",
            "Epoch 14/20\n",
            "49/49 [==============================] - 2s 36ms/step - loss: 0.0836 - acc: 0.9758 - val_loss: 0.3926 - val_acc: 0.8676\n",
            "Epoch 15/20\n",
            "49/49 [==============================] - 2s 36ms/step - loss: 0.0780 - acc: 0.9778 - val_loss: 0.4143 - val_acc: 0.8660\n",
            "Epoch 16/20\n",
            "49/49 [==============================] - 2s 35ms/step - loss: 0.0731 - acc: 0.9800 - val_loss: 0.4219 - val_acc: 0.8645\n",
            "Epoch 17/20\n",
            "49/49 [==============================] - 2s 35ms/step - loss: 0.0661 - acc: 0.9813 - val_loss: 0.4543 - val_acc: 0.8601\n",
            "Epoch 18/20\n",
            "49/49 [==============================] - 2s 35ms/step - loss: 0.0614 - acc: 0.9842 - val_loss: 0.4611 - val_acc: 0.8622\n",
            "Epoch 19/20\n",
            "49/49 [==============================] - 2s 35ms/step - loss: 0.0587 - acc: 0.9854 - val_loss: 0.4792 - val_acc: 0.8617\n",
            "Epoch 20/20\n",
            "49/49 [==============================] - 2s 35ms/step - loss: 0.0537 - acc: 0.9862 - val_loss: 0.4965 - val_acc: 0.8601\n"
          ],
          "name": "stdout"
        },
        {
          "output_type": "display_data",
          "data": {
            "image/png": "[encoded data removed]",
            "text/plain": [
              "<Figure size 432x288 with 1 Axes>"
            ]
          },
          "metadata": {
            "tags": [],
            "needs_background": "light"
          }
        },
        {
          "output_type": "stream",
          "text": [
            "Epoch 1/20\n",
            "49/49 [==============================] - 17s 344ms/step - loss: 0.6426 - acc: 0.7161 - val_loss: 0.2836 - val_acc: 0.8877\n",
            "Epoch 2/20\n",
            "49/49 [==============================] - 16s 324ms/step - loss: 0.2287 - acc: 0.9081 - val_loss: 0.3177 - val_acc: 0.8738\n",
            "Epoch 3/20\n",
            "49/49 [==============================] - 16s 325ms/step - loss: 0.1307 - acc: 0.9504 - val_loss: 0.6323 - val_acc: 0.7930\n",
            "Epoch 4/20\n",
            "49/49 [==============================] - 16s 324ms/step - loss: 0.0760 - acc: 0.9759 - val_loss: 0.4434 - val_acc: 0.8806\n",
            "Epoch 5/20\n",
            "49/49 [==============================] - 16s 327ms/step - loss: 0.0414 - acc: 0.9928 - val_loss: 0.4498 - val_acc: 0.8793\n",
            "Epoch 6/20\n",
            "49/49 [==============================] - 16s 326ms/step - loss: 0.0030 - acc: 0.9998 - val_loss: 0.6487 - val_acc: 0.8773\n",
            "Epoch 7/20\n",
            "49/49 [==============================] - 16s 330ms/step - loss: 0.0131 - acc: 0.9986 - val_loss: 0.6546 - val_acc: 0.8657\n",
            "Epoch 8/20\n",
            "49/49 [==============================] - 16s 322ms/step - loss: 0.0010 - acc: 1.0000 - val_loss: 0.7297 - val_acc: 0.8765\n",
            "Epoch 9/20\n",
            "49/49 [==============================] - 16s 323ms/step - loss: 1.3569e-04 - acc: 1.0000 - val_loss: 0.8934 - val_acc: 0.8773\n",
            "Epoch 10/20\n",
            "49/49 [==============================] - 16s 324ms/step - loss: 0.0884 - acc: 0.9923 - val_loss: 0.6788 - val_acc: 0.8755\n",
            "Epoch 11/20\n",
            "49/49 [==============================] - 16s 322ms/step - loss: 1.5768e-04 - acc: 1.0000 - val_loss: 0.8199 - val_acc: 0.8766\n",
            "Epoch 12/20\n",
            "49/49 [==============================] - 16s 322ms/step - loss: 3.2017e-05 - acc: 1.0000 - val_loss: 0.9774 - val_acc: 0.8767\n",
            "Epoch 13/20\n",
            "49/49 [==============================] - 16s 322ms/step - loss: 5.7333e-06 - acc: 1.0000 - val_loss: 1.1397 - val_acc: 0.8762\n",
            "Epoch 14/20\n",
            "49/49 [==============================] - 16s 322ms/step - loss: 9.3623e-07 - acc: 1.0000 - val_loss: 1.3006 - val_acc: 0.8763\n",
            "Epoch 15/20\n",
            "49/49 [==============================] - 16s 323ms/step - loss: 1.3984e-07 - acc: 1.0000 - val_loss: 1.4290 - val_acc: 0.8758\n",
            "Epoch 16/20\n",
            "49/49 [==============================] - 16s 322ms/step - loss: 4.0766e-08 - acc: 1.0000 - val_loss: 1.5153 - val_acc: 0.8754\n",
            "Epoch 17/20\n",
            "49/49 [==============================] - 16s 323ms/step - loss: 1.9239e-08 - acc: 1.0000 - val_loss: 1.5587 - val_acc: 0.8753\n",
            "Epoch 18/20\n",
            "49/49 [==============================] - 16s 324ms/step - loss: 1.2383e-08 - acc: 1.0000 - val_loss: 1.5868 - val_acc: 0.8753\n",
            "Epoch 19/20\n",
            "49/49 [==============================] - 16s 323ms/step - loss: 9.1629e-09 - acc: 1.0000 - val_loss: 1.6072 - val_acc: 0.8754\n",
            "Epoch 20/20\n",
            "49/49 [==============================] - 16s 323ms/step - loss: 7.5241e-09 - acc: 1.0000 - val_loss: 1.6242 - val_acc: 0.8752\n"
          ],
          "name": "stdout"
        },
        {
          "output_type": "display_data",
          "data": {
            "image/png": "[encoded data removed]",
            "text/plain": [
              "<Figure size 432x288 with 1 Axes>"
            ]
          },
          "metadata": {
            "tags": [],
            "needs_background": "light"
          }
        },
        {
          "output_type": "display_data",
          "data": {
            "image/png": "[encoded data removed]",
            "text/plain": [
              "<Figure size 432x288 with 1 Axes>"
            ]
          },
          "metadata": {
            "tags": [],
            "needs_background": "light"
          }
        },
        {
          "output_type": "execute_result",
          "data": {
            "application/vnd.google.colaboratory.intrinsic+json": {
              "type": "string"
            },
            "text/plain": [
              "'\\nThe bigger network gets its training loss near zero very \\nquickly. The more capacity the network has, the quicker it will be able to model \\nthe training data (resulting in a low training loss), but the more susceptible \\nit is to overfitting (resulting in a large difference between the training and \\nvalidation loss).\\n'"
            ]
          },
          "metadata": {
            "tags": []
          },
          "execution_count": 1
        }
      ]
    }
  ]
}